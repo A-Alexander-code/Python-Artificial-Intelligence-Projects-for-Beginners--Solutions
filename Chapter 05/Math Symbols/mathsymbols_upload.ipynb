{
 "cells": [
  {
   "cell_type": "code",
   "execution_count": null,
   "metadata": {},
   "outputs": [],
   "source": [
    "# load the pre-trained model and predict the math symbol for an arbitrary image;\n",
    "# the code below could be placed in a separate file\n",
    "\n",
    "import keras.models\n",
    "model2 = keras.models.load_models(\"mathsymbols.model\")\n",
    "print(model2.summary())\n",
    "\n",
    "3 restore the class name tointeger encoder\n",
    "label_encoder2 = LabelEncoder()\n",
    "label_encoder2.classes_ = np.load('classes.npy')\n",
    "\n",
    "def predict(img_path):\n",
    "    newimg = keras.preprocessing.image.img_to_array(pil_image.open(img_path))\n",
    "    newimg /= 255.0\n",
    "    \n",
    "    # do the prediction\n",
    "    prediction = model2.predict(newimg.reshape(1, 32, 32, 3))\n",
    "    \n",
    "    # figure out which output neuron had the highest score, and reverse the one-hot encoding\n",
    "    inverted = label_encoder2.inverse_transform([np.argmax(prediction)])         # argmax finds highest-scoring output\n",
    "    print(\"Prediction: %s, confidence: %.2f\" %  (inverted[0], np.max(prediction)))"
   ]
  },
  {
   "cell_type": "code",
   "execution_count": null,
   "metadata": {},
   "outputs": [],
   "source": [
    "# grab an image (we'll just use a random training image for demostration purpose)\n",
    "predict(\"HASYv2/hasy-data/v2-00010.png\")"
   ]
  },
  {
   "cell_type": "code",
   "execution_count": null,
   "metadata": {},
   "outputs": [],
   "source": [
    "predict(\"HASYv2/hasy-data/v2-00500.png\")"
   ]
  },
  {
   "cell_type": "code",
   "execution_count": null,
   "metadata": {},
   "outputs": [],
   "source": [
    "predict(\"HASYv2/hasy-data/v2-00700.png\")"
   ]
  }
 ],
 "metadata": {
  "kernelspec": {
   "display_name": "Python 3",
   "language": "python",
   "name": "python3"
  },
  "language_info": {
   "codemirror_mode": {
    "name": "ipython",
    "version": 3
   },
   "file_extension": ".py",
   "mimetype": "text/x-python",
   "name": "python",
   "nbconvert_exporter": "python",
   "pygments_lexer": "ipython3",
   "version": "3.8.5"
  }
 },
 "nbformat": 4,
 "nbformat_minor": 4
}
